{
 "cells": [
  {
   "cell_type": "markdown",
   "metadata": {},
   "source": [
    "!!! Важное замечание, что на практике без уточнения точного результата и постановки задачи в работу такую задачу не взял бы. На практике в зависимости от задачи выбирается подходящая модель, а также при подведении итогов проще работать с ожиданиями заказчика.\n",
    "\n",
    "В связи с этим определил цель: Определение конкретного сотрудника исходя из наименования репозитория и количества дефектов (в случае наилчия ментора взял бы в как основной параметр для прогноза - количество дефектов, а фичи - репа, дата, автор. комментарии в конце ноутбука) "
   ]
  },
  {
   "cell_type": "markdown",
   "metadata": {},
   "source": [
    "# 1. Загрузка библиотек"
   ]
  },
  {
   "cell_type": "code",
   "execution_count": null,
   "metadata": {},
   "outputs": [],
   "source": [
    "import warnings\n",
    "warnings.simplefilter(action='ignore', category=FutureWarning)"
   ]
  },
  {
   "cell_type": "code",
   "execution_count": 99,
   "metadata": {},
   "outputs": [],
   "source": [
    "import pandas as pd\n",
    "import matplotlib.pyplot as plt\n",
    "import numpy as np\n",
    "import os\n",
    "from datetime import datetime"
   ]
  },
  {
   "cell_type": "markdown",
   "metadata": {},
   "source": [
    "# 2. Загрузка файла"
   ]
  },
  {
   "cell_type": "code",
   "execution_count": 195,
   "metadata": {},
   "outputs": [],
   "source": [
    "#Нужно убедиться, что адрес файла указан корректно"
   ]
  },
  {
   "cell_type": "code",
   "execution_count": 100,
   "metadata": {},
   "outputs": [],
   "source": [
    "df = pd.read_csv(filepath_or_buffer = \"../тестовое задание/АВСОФТ_тест_ML_приложение.csv\",\n",
    "           sep = ',')"
   ]
  },
  {
   "cell_type": "markdown",
   "metadata": {},
   "source": [
    "# 3. Получение изучающей информации о генеральной совокупности "
   ]
  },
  {
   "cell_type": "code",
   "execution_count": 101,
   "metadata": {},
   "outputs": [
    {
     "data": {
      "text/html": [
       "<div>\n",
       "<style scoped>\n",
       "    .dataframe tbody tr th:only-of-type {\n",
       "        vertical-align: middle;\n",
       "    }\n",
       "\n",
       "    .dataframe tbody tr th {\n",
       "        vertical-align: top;\n",
       "    }\n",
       "\n",
       "    .dataframe thead th {\n",
       "        text-align: right;\n",
       "    }\n",
       "</style>\n",
       "<table border=\"1\" class=\"dataframe\">\n",
       "  <thead>\n",
       "    <tr style=\"text-align: right;\">\n",
       "      <th></th>\n",
       "      <th>bugs</th>\n",
       "    </tr>\n",
       "  </thead>\n",
       "  <tbody>\n",
       "    <tr>\n",
       "      <th>count</th>\n",
       "      <td>319.000000</td>\n",
       "    </tr>\n",
       "    <tr>\n",
       "      <th>mean</th>\n",
       "      <td>2.996865</td>\n",
       "    </tr>\n",
       "    <tr>\n",
       "      <th>std</th>\n",
       "      <td>1.855636</td>\n",
       "    </tr>\n",
       "    <tr>\n",
       "      <th>min</th>\n",
       "      <td>0.000000</td>\n",
       "    </tr>\n",
       "    <tr>\n",
       "      <th>25%</th>\n",
       "      <td>2.000000</td>\n",
       "    </tr>\n",
       "    <tr>\n",
       "      <th>50%</th>\n",
       "      <td>3.000000</td>\n",
       "    </tr>\n",
       "    <tr>\n",
       "      <th>75%</th>\n",
       "      <td>4.000000</td>\n",
       "    </tr>\n",
       "    <tr>\n",
       "      <th>max</th>\n",
       "      <td>12.000000</td>\n",
       "    </tr>\n",
       "  </tbody>\n",
       "</table>\n",
       "</div>"
      ],
      "text/plain": [
       "             bugs\n",
       "count  319.000000\n",
       "mean     2.996865\n",
       "std      1.855636\n",
       "min      0.000000\n",
       "25%      2.000000\n",
       "50%      3.000000\n",
       "75%      4.000000\n",
       "max     12.000000"
      ]
     },
     "execution_count": 101,
     "metadata": {},
     "output_type": "execute_result"
    }
   ],
   "source": [
    "df.describe()"
   ]
  },
  {
   "cell_type": "code",
   "execution_count": 136,
   "metadata": {},
   "outputs": [
    {
     "name": "stdout",
     "output_type": "stream",
     "text": [
      "<class 'pandas.core.frame.DataFrame'>\n",
      "RangeIndex: 319 entries, 0 to 318\n",
      "Data columns (total 6 columns):\n",
      " #   Column           Non-Null Count  Dtype \n",
      "---  ------           --------------  ----- \n",
      " 0   repository_name  319 non-null    object\n",
      " 1   commit_hash      319 non-null    object\n",
      " 2   commit_date      319 non-null    object\n",
      " 3   commit_author    319 non-null    object\n",
      " 4   commit_message   319 non-null    object\n",
      " 5   bugs             319 non-null    int64 \n",
      "dtypes: int64(1), object(5)\n",
      "memory usage: 15.1+ KB\n"
     ]
    }
   ],
   "source": [
    "df.info()"
   ]
  },
  {
   "cell_type": "code",
   "execution_count": 103,
   "metadata": {},
   "outputs": [
    {
     "data": {
      "text/plain": [
       "repository_name      6\n",
       "commit_hash        319\n",
       "commit_date        318\n",
       "commit_author       10\n",
       "commit_message     309\n",
       "bugs                13\n",
       "dtype: int64"
      ]
     },
     "execution_count": 103,
     "metadata": {},
     "output_type": "execute_result"
    }
   ],
   "source": [
    " df.nunique()"
   ]
  },
  {
   "cell_type": "code",
   "execution_count": 104,
   "metadata": {},
   "outputs": [
    {
     "data": {
      "text/html": [
       "<div>\n",
       "<style scoped>\n",
       "    .dataframe tbody tr th:only-of-type {\n",
       "        vertical-align: middle;\n",
       "    }\n",
       "\n",
       "    .dataframe tbody tr th {\n",
       "        vertical-align: top;\n",
       "    }\n",
       "\n",
       "    .dataframe thead th {\n",
       "        text-align: right;\n",
       "    }\n",
       "</style>\n",
       "<table border=\"1\" class=\"dataframe\">\n",
       "  <thead>\n",
       "    <tr style=\"text-align: right;\">\n",
       "      <th></th>\n",
       "      <th>repository_name</th>\n",
       "      <th>commit_hash</th>\n",
       "      <th>commit_date</th>\n",
       "      <th>commit_author</th>\n",
       "      <th>commit_message</th>\n",
       "      <th>bugs</th>\n",
       "    </tr>\n",
       "  </thead>\n",
       "  <tbody>\n",
       "    <tr>\n",
       "      <th>0</th>\n",
       "      <td>mlm</td>\n",
       "      <td>b28abb42</td>\n",
       "      <td>2020-06-12T14:26:12</td>\n",
       "      <td>Victor</td>\n",
       "      <td>объяснения предсказаний с помощью lime</td>\n",
       "      <td>4</td>\n",
       "    </tr>\n",
       "    <tr>\n",
       "      <th>1</th>\n",
       "      <td>mlm</td>\n",
       "      <td>438b5c4d</td>\n",
       "      <td>2020-06-12T11:53:10</td>\n",
       "      <td>Victor</td>\n",
       "      <td>Поставил lime вместо eli5</td>\n",
       "      <td>3</td>\n",
       "    </tr>\n",
       "    <tr>\n",
       "      <th>2</th>\n",
       "      <td>mlm</td>\n",
       "      <td>8e6e4f31</td>\n",
       "      <td>2020-06-11T15:19:03</td>\n",
       "      <td>Victor</td>\n",
       "      <td>Скрипт для создния пакетов обновления</td>\n",
       "      <td>4</td>\n",
       "    </tr>\n",
       "    <tr>\n",
       "      <th>3</th>\n",
       "      <td>mlm</td>\n",
       "      <td>5e0956a6</td>\n",
       "      <td>2020-06-11T10:42:29</td>\n",
       "      <td>Victor</td>\n",
       "      <td>Сортировка весов по убыванию</td>\n",
       "      <td>3</td>\n",
       "    </tr>\n",
       "    <tr>\n",
       "      <th>4</th>\n",
       "      <td>mlm</td>\n",
       "      <td>b9f4b40c</td>\n",
       "      <td>2020-06-11T09:25:19</td>\n",
       "      <td>Victor</td>\n",
       "      <td>не надо конвертировать массив до операции по с...</td>\n",
       "      <td>7</td>\n",
       "    </tr>\n",
       "    <tr>\n",
       "      <th>5</th>\n",
       "      <td>mlm</td>\n",
       "      <td>4f5f3743</td>\n",
       "      <td>2020-06-11T09:12:37</td>\n",
       "      <td>Peggy</td>\n",
       "      <td>Добавлено больше логирования и фикс до частичн...</td>\n",
       "      <td>6</td>\n",
       "    </tr>\n",
       "    <tr>\n",
       "      <th>6</th>\n",
       "      <td>mlm</td>\n",
       "      <td>24a11c40</td>\n",
       "      <td>2020-06-10T15:34:22</td>\n",
       "      <td>Victor</td>\n",
       "      <td>Отладка, чтоб оно хотябы запускалось</td>\n",
       "      <td>4</td>\n",
       "    </tr>\n",
       "    <tr>\n",
       "      <th>7</th>\n",
       "      <td>mlm</td>\n",
       "      <td>3287c74a</td>\n",
       "      <td>2020-06-10T15:34:04</td>\n",
       "      <td>Victor</td>\n",
       "      <td>Добавил скрипт для запуска контейнера</td>\n",
       "      <td>4</td>\n",
       "    </tr>\n",
       "    <tr>\n",
       "      <th>8</th>\n",
       "      <td>mlm</td>\n",
       "      <td>c78d5187</td>\n",
       "      <td>2020-06-10T15:22:21</td>\n",
       "      <td>Victor</td>\n",
       "      <td>label не нужен</td>\n",
       "      <td>2</td>\n",
       "    </tr>\n",
       "    <tr>\n",
       "      <th>9</th>\n",
       "      <td>mlm</td>\n",
       "      <td>bcb47e60</td>\n",
       "      <td>2020-06-10T14:54:14</td>\n",
       "      <td>Victor</td>\n",
       "      <td>Установка всех зависимостей теперь в докер файле</td>\n",
       "      <td>5</td>\n",
       "    </tr>\n",
       "    <tr>\n",
       "      <th>10</th>\n",
       "      <td>mlm</td>\n",
       "      <td>edccc275</td>\n",
       "      <td>2020-06-10T14:32:09</td>\n",
       "      <td>Victor</td>\n",
       "      <td>Использование sha256</td>\n",
       "      <td>2</td>\n",
       "    </tr>\n",
       "    <tr>\n",
       "      <th>11</th>\n",
       "      <td>mlm</td>\n",
       "      <td>7dada598</td>\n",
       "      <td>2020-06-10T13:45:37</td>\n",
       "      <td>Peggy</td>\n",
       "      <td>Обновление схем</td>\n",
       "      <td>1</td>\n",
       "    </tr>\n",
       "    <tr>\n",
       "      <th>12</th>\n",
       "      <td>mlm</td>\n",
       "      <td>7358f296</td>\n",
       "      <td>2020-06-10T13:05:18</td>\n",
       "      <td>Victor</td>\n",
       "      <td>Не сохранять неизвестные поля, на них нельзя о...</td>\n",
       "      <td>11</td>\n",
       "    </tr>\n",
       "    <tr>\n",
       "      <th>13</th>\n",
       "      <td>mlm</td>\n",
       "      <td>d00a4637</td>\n",
       "      <td>2020-06-10T12:51:30</td>\n",
       "      <td>Victor</td>\n",
       "      <td>hdf5 не умеет хранить матрицы различных типов,...</td>\n",
       "      <td>10</td>\n",
       "    </tr>\n",
       "    <tr>\n",
       "      <th>14</th>\n",
       "      <td>mlm</td>\n",
       "      <td>1536a0ff</td>\n",
       "      <td>2020-06-10T11:15:54</td>\n",
       "      <td>Victor</td>\n",
       "      <td>Скрипт для создания датасета из csv файла</td>\n",
       "      <td>5</td>\n",
       "    </tr>\n",
       "    <tr>\n",
       "      <th>15</th>\n",
       "      <td>mlm</td>\n",
       "      <td>203d9ca2</td>\n",
       "      <td>2020-06-10T10:17:03</td>\n",
       "      <td>Victor</td>\n",
       "      <td>тип и всякие статичные данные пусть лежат в да...</td>\n",
       "      <td>7</td>\n",
       "    </tr>\n",
       "    <tr>\n",
       "      <th>16</th>\n",
       "      <td>mlm</td>\n",
       "      <td>eda23d40</td>\n",
       "      <td>2020-06-10T10:12:46</td>\n",
       "      <td>Victor</td>\n",
       "      <td>eli5 предсказание для бинарных классификаторов</td>\n",
       "      <td>4</td>\n",
       "    </tr>\n",
       "    <tr>\n",
       "      <th>17</th>\n",
       "      <td>mlm</td>\n",
       "      <td>90a3bcc7</td>\n",
       "      <td>2020-06-10T08:34:15</td>\n",
       "      <td>Victor</td>\n",
       "      <td>Функции проверки меток</td>\n",
       "      <td>2</td>\n",
       "    </tr>\n",
       "    <tr>\n",
       "      <th>18</th>\n",
       "      <td>mlm</td>\n",
       "      <td>a91623e9</td>\n",
       "      <td>2020-06-09T17:37:52</td>\n",
       "      <td>Victor</td>\n",
       "      <td>Апи для моделей и датасетов</td>\n",
       "      <td>4</td>\n",
       "    </tr>\n",
       "    <tr>\n",
       "      <th>19</th>\n",
       "      <td>mlm</td>\n",
       "      <td>dbb5fc69</td>\n",
       "      <td>2020-06-05T17:15:17</td>\n",
       "      <td>Victor</td>\n",
       "      <td>Пересмотрели архитектуру, теперь все запросы ч...</td>\n",
       "      <td>6</td>\n",
       "    </tr>\n",
       "  </tbody>\n",
       "</table>\n",
       "</div>"
      ],
      "text/plain": [
       "   repository_name commit_hash          commit_date commit_author  \\\n",
       "0              mlm    b28abb42  2020-06-12T14:26:12        Victor   \n",
       "1              mlm    438b5c4d  2020-06-12T11:53:10        Victor   \n",
       "2              mlm    8e6e4f31  2020-06-11T15:19:03        Victor   \n",
       "3              mlm    5e0956a6  2020-06-11T10:42:29        Victor   \n",
       "4              mlm    b9f4b40c  2020-06-11T09:25:19        Victor   \n",
       "5              mlm    4f5f3743  2020-06-11T09:12:37         Peggy   \n",
       "6              mlm    24a11c40  2020-06-10T15:34:22        Victor   \n",
       "7              mlm    3287c74a  2020-06-10T15:34:04        Victor   \n",
       "8              mlm    c78d5187  2020-06-10T15:22:21        Victor   \n",
       "9              mlm    bcb47e60  2020-06-10T14:54:14        Victor   \n",
       "10             mlm    edccc275  2020-06-10T14:32:09        Victor   \n",
       "11             mlm    7dada598  2020-06-10T13:45:37         Peggy   \n",
       "12             mlm    7358f296  2020-06-10T13:05:18        Victor   \n",
       "13             mlm    d00a4637  2020-06-10T12:51:30        Victor   \n",
       "14             mlm    1536a0ff  2020-06-10T11:15:54        Victor   \n",
       "15             mlm    203d9ca2  2020-06-10T10:17:03        Victor   \n",
       "16             mlm    eda23d40  2020-06-10T10:12:46        Victor   \n",
       "17             mlm    90a3bcc7  2020-06-10T08:34:15        Victor   \n",
       "18             mlm    a91623e9  2020-06-09T17:37:52        Victor   \n",
       "19             mlm    dbb5fc69  2020-06-05T17:15:17        Victor   \n",
       "\n",
       "                                       commit_message  bugs  \n",
       "0              объяснения предсказаний с помощью lime     4  \n",
       "1                           Поставил lime вместо eli5     3  \n",
       "2               Скрипт для создния пакетов обновления     4  \n",
       "3                        Сортировка весов по убыванию     3  \n",
       "4   не надо конвертировать массив до операции по с...     7  \n",
       "5   Добавлено больше логирования и фикс до частичн...     6  \n",
       "6                Отладка, чтоб оно хотябы запускалось     4  \n",
       "7               Добавил скрипт для запуска контейнера     4  \n",
       "8                                      label не нужен     2  \n",
       "9    Установка всех зависимостей теперь в докер файле     5  \n",
       "10                               Использование sha256     2  \n",
       "11                                    Обновление схем     1  \n",
       "12  Не сохранять неизвестные поля, на них нельзя о...    11  \n",
       "13  hdf5 не умеет хранить матрицы различных типов,...    10  \n",
       "14          Скрипт для создания датасета из csv файла     5  \n",
       "15  тип и всякие статичные данные пусть лежат в да...     7  \n",
       "16     eli5 предсказание для бинарных классификаторов     4  \n",
       "17                             Функции проверки меток     2  \n",
       "18                        Апи для моделей и датасетов     4  \n",
       "19  Пересмотрели архитектуру, теперь все запросы ч...     6  "
      ]
     },
     "execution_count": 104,
     "metadata": {},
     "output_type": "execute_result"
    }
   ],
   "source": [
    "df.head(20)"
   ]
  },
  {
   "cell_type": "code",
   "execution_count": 105,
   "metadata": {},
   "outputs": [
    {
     "data": {
      "text/html": [
       "<div>\n",
       "<style scoped>\n",
       "    .dataframe tbody tr th:only-of-type {\n",
       "        vertical-align: middle;\n",
       "    }\n",
       "\n",
       "    .dataframe tbody tr th {\n",
       "        vertical-align: top;\n",
       "    }\n",
       "\n",
       "    .dataframe thead th {\n",
       "        text-align: right;\n",
       "    }\n",
       "</style>\n",
       "<table border=\"1\" class=\"dataframe\">\n",
       "  <thead>\n",
       "    <tr style=\"text-align: right;\">\n",
       "      <th></th>\n",
       "      <th>repository_name</th>\n",
       "      <th>commit_hash</th>\n",
       "      <th>commit_date</th>\n",
       "      <th>commit_author</th>\n",
       "      <th>commit_message</th>\n",
       "      <th>bugs</th>\n",
       "    </tr>\n",
       "  </thead>\n",
       "  <tbody>\n",
       "    <tr>\n",
       "      <th>42</th>\n",
       "      <td>standard</td>\n",
       "      <td>b904f026</td>\n",
       "      <td>2020-05-21T16:04:16</td>\n",
       "      <td>Wendy</td>\n",
       "      <td>oups fixed dist</td>\n",
       "      <td>0</td>\n",
       "    </tr>\n",
       "    <tr>\n",
       "      <th>93</th>\n",
       "      <td>conductor</td>\n",
       "      <td>5840de2f</td>\n",
       "      <td>2020-05-29T10:52:05</td>\n",
       "      <td>Wendy</td>\n",
       "      <td>little fix and clear</td>\n",
       "      <td>0</td>\n",
       "    </tr>\n",
       "    <tr>\n",
       "      <th>143</th>\n",
       "      <td>conductor</td>\n",
       "      <td>dc02cab8</td>\n",
       "      <td>2020-04-09T12:35:08</td>\n",
       "      <td>Mallory</td>\n",
       "      <td>Small fixes in image module to make it all work</td>\n",
       "      <td>0</td>\n",
       "    </tr>\n",
       "    <tr>\n",
       "      <th>162</th>\n",
       "      <td>conductor</td>\n",
       "      <td>4bb47f73</td>\n",
       "      <td>2020-04-01T13:34:04</td>\n",
       "      <td>Mallory</td>\n",
       "      <td>removed logstash and cowrie sed /data fix</td>\n",
       "      <td>0</td>\n",
       "    </tr>\n",
       "    <tr>\n",
       "      <th>201</th>\n",
       "      <td>dockers</td>\n",
       "      <td>2ac5f8a8</td>\n",
       "      <td>2020-06-02T13:35:06</td>\n",
       "      <td>Carol</td>\n",
       "      <td>ciscoasa_v2: add logging, file.log -&gt; file.jso...</td>\n",
       "      <td>0</td>\n",
       "    </tr>\n",
       "  </tbody>\n",
       "</table>\n",
       "</div>"
      ],
      "text/plain": [
       "    repository_name commit_hash          commit_date commit_author  \\\n",
       "42         standard    b904f026  2020-05-21T16:04:16         Wendy   \n",
       "93        conductor    5840de2f  2020-05-29T10:52:05         Wendy   \n",
       "143       conductor    dc02cab8  2020-04-09T12:35:08       Mallory   \n",
       "162       conductor    4bb47f73  2020-04-01T13:34:04       Mallory   \n",
       "201         dockers    2ac5f8a8  2020-06-02T13:35:06         Carol   \n",
       "\n",
       "                                        commit_message  bugs  \n",
       "42                                     oups fixed dist     0  \n",
       "93                                little fix and clear     0  \n",
       "143    Small fixes in image module to make it all work     0  \n",
       "162          removed logstash and cowrie sed /data fix     0  \n",
       "201  ciscoasa_v2: add logging, file.log -> file.jso...     0  "
      ]
     },
     "execution_count": 105,
     "metadata": {},
     "output_type": "execute_result"
    }
   ],
   "source": [
    "df.nsmallest(5, 'bugs').head(20)"
   ]
  },
  {
   "cell_type": "code",
   "execution_count": 106,
   "metadata": {},
   "outputs": [
    {
     "data": {
      "text/html": [
       "<div>\n",
       "<style scoped>\n",
       "    .dataframe tbody tr th:only-of-type {\n",
       "        vertical-align: middle;\n",
       "    }\n",
       "\n",
       "    .dataframe tbody tr th {\n",
       "        vertical-align: top;\n",
       "    }\n",
       "\n",
       "    .dataframe thead th {\n",
       "        text-align: right;\n",
       "    }\n",
       "</style>\n",
       "<table border=\"1\" class=\"dataframe\">\n",
       "  <thead>\n",
       "    <tr style=\"text-align: right;\">\n",
       "      <th></th>\n",
       "      <th>repository_name</th>\n",
       "      <th>commit_hash</th>\n",
       "      <th>commit_date</th>\n",
       "      <th>commit_author</th>\n",
       "      <th>commit_message</th>\n",
       "      <th>bugs</th>\n",
       "    </tr>\n",
       "  </thead>\n",
       "  <tbody>\n",
       "    <tr>\n",
       "      <th>36</th>\n",
       "      <td>mlm</td>\n",
       "      <td>bb54e4e6</td>\n",
       "      <td>2020-03-08T17:23:12</td>\n",
       "      <td>Victor</td>\n",
       "      <td>Small Fixes in main.py to make it work</td>\n",
       "      <td>12</td>\n",
       "    </tr>\n",
       "    <tr>\n",
       "      <th>38</th>\n",
       "      <td>mlm</td>\n",
       "      <td>29ba5151</td>\n",
       "      <td>2020-03-08T17:18:35</td>\n",
       "      <td>Victor</td>\n",
       "      <td>Small Fixes in models.py to make it work</td>\n",
       "      <td>12</td>\n",
       "    </tr>\n",
       "    <tr>\n",
       "      <th>12</th>\n",
       "      <td>mlm</td>\n",
       "      <td>7358f296</td>\n",
       "      <td>2020-06-10T13:05:18</td>\n",
       "      <td>Victor</td>\n",
       "      <td>Не сохранять неизвестные поля, на них нельзя о...</td>\n",
       "      <td>11</td>\n",
       "    </tr>\n",
       "    <tr>\n",
       "      <th>13</th>\n",
       "      <td>mlm</td>\n",
       "      <td>d00a4637</td>\n",
       "      <td>2020-06-10T12:51:30</td>\n",
       "      <td>Victor</td>\n",
       "      <td>hdf5 не умеет хранить матрицы различных типов,...</td>\n",
       "      <td>10</td>\n",
       "    </tr>\n",
       "    <tr>\n",
       "      <th>35</th>\n",
       "      <td>mlm</td>\n",
       "      <td>af7c2776</td>\n",
       "      <td>2020-03-08T17:46:38</td>\n",
       "      <td>Victor</td>\n",
       "      <td>Saving unknown labels on emergency saving</td>\n",
       "      <td>9</td>\n",
       "    </tr>\n",
       "  </tbody>\n",
       "</table>\n",
       "</div>"
      ],
      "text/plain": [
       "   repository_name commit_hash          commit_date commit_author  \\\n",
       "36             mlm    bb54e4e6  2020-03-08T17:23:12        Victor   \n",
       "38             mlm    29ba5151  2020-03-08T17:18:35        Victor   \n",
       "12             mlm    7358f296  2020-06-10T13:05:18        Victor   \n",
       "13             mlm    d00a4637  2020-06-10T12:51:30        Victor   \n",
       "35             mlm    af7c2776  2020-03-08T17:46:38        Victor   \n",
       "\n",
       "                                       commit_message  bugs  \n",
       "36             Small Fixes in main.py to make it work    12  \n",
       "38           Small Fixes in models.py to make it work    12  \n",
       "12  Не сохранять неизвестные поля, на них нельзя о...    11  \n",
       "13  hdf5 не умеет хранить матрицы различных типов,...    10  \n",
       "35          Saving unknown labels on emergency saving     9  "
      ]
     },
     "execution_count": 106,
     "metadata": {},
     "output_type": "execute_result"
    }
   ],
   "source": [
    "df.nlargest(5, 'bugs').head(20)"
   ]
  },
  {
   "cell_type": "markdown",
   "metadata": {},
   "source": [
    "# 4. Подготовка данных для обучения модели"
   ]
  },
  {
   "cell_type": "code",
   "execution_count": 107,
   "metadata": {},
   "outputs": [
    {
     "data": {
      "text/html": [
       "<div>\n",
       "<style scoped>\n",
       "    .dataframe tbody tr th:only-of-type {\n",
       "        vertical-align: middle;\n",
       "    }\n",
       "\n",
       "    .dataframe tbody tr th {\n",
       "        vertical-align: top;\n",
       "    }\n",
       "\n",
       "    .dataframe thead th {\n",
       "        text-align: right;\n",
       "    }\n",
       "</style>\n",
       "<table border=\"1\" class=\"dataframe\">\n",
       "  <thead>\n",
       "    <tr style=\"text-align: right;\">\n",
       "      <th></th>\n",
       "      <th>repository_name</th>\n",
       "      <th>commit_date</th>\n",
       "      <th>commit_author</th>\n",
       "      <th>commit_message</th>\n",
       "      <th>bugs</th>\n",
       "    </tr>\n",
       "  </thead>\n",
       "  <tbody>\n",
       "    <tr>\n",
       "      <th>0</th>\n",
       "      <td>mlm</td>\n",
       "      <td>2020-06-12T14:26:12</td>\n",
       "      <td>Victor</td>\n",
       "      <td>объяснения предсказаний с помощью lime</td>\n",
       "      <td>4</td>\n",
       "    </tr>\n",
       "    <tr>\n",
       "      <th>1</th>\n",
       "      <td>mlm</td>\n",
       "      <td>2020-06-12T11:53:10</td>\n",
       "      <td>Victor</td>\n",
       "      <td>Поставил lime вместо eli5</td>\n",
       "      <td>3</td>\n",
       "    </tr>\n",
       "    <tr>\n",
       "      <th>2</th>\n",
       "      <td>mlm</td>\n",
       "      <td>2020-06-11T15:19:03</td>\n",
       "      <td>Victor</td>\n",
       "      <td>Скрипт для создния пакетов обновления</td>\n",
       "      <td>4</td>\n",
       "    </tr>\n",
       "    <tr>\n",
       "      <th>3</th>\n",
       "      <td>mlm</td>\n",
       "      <td>2020-06-11T10:42:29</td>\n",
       "      <td>Victor</td>\n",
       "      <td>Сортировка весов по убыванию</td>\n",
       "      <td>3</td>\n",
       "    </tr>\n",
       "    <tr>\n",
       "      <th>4</th>\n",
       "      <td>mlm</td>\n",
       "      <td>2020-06-11T09:25:19</td>\n",
       "      <td>Victor</td>\n",
       "      <td>не надо конвертировать массив до операции по с...</td>\n",
       "      <td>7</td>\n",
       "    </tr>\n",
       "    <tr>\n",
       "      <th>...</th>\n",
       "      <td>...</td>\n",
       "      <td>...</td>\n",
       "      <td>...</td>\n",
       "      <td>...</td>\n",
       "      <td>...</td>\n",
       "    </tr>\n",
       "    <tr>\n",
       "      <th>314</th>\n",
       "      <td>sensor</td>\n",
       "      <td>2020-03-23T12:54:35</td>\n",
       "      <td>Dabe</td>\n",
       "      <td>setting hostname</td>\n",
       "      <td>1</td>\n",
       "    </tr>\n",
       "    <tr>\n",
       "      <th>315</th>\n",
       "      <td>sensor</td>\n",
       "      <td>2020-03-23T12:30:52</td>\n",
       "      <td>Dabe</td>\n",
       "      <td>heralding default dockerfile</td>\n",
       "      <td>2</td>\n",
       "    </tr>\n",
       "    <tr>\n",
       "      <th>316</th>\n",
       "      <td>sensor</td>\n",
       "      <td>2020-03-23T11:27:40</td>\n",
       "      <td>Dabe</td>\n",
       "      <td>unnesserity /data path permissions setting</td>\n",
       "      <td>3</td>\n",
       "    </tr>\n",
       "    <tr>\n",
       "      <th>317</th>\n",
       "      <td>sensor</td>\n",
       "      <td>2020-03-23T11:20:50</td>\n",
       "      <td>Dabe</td>\n",
       "      <td>added trapconductor</td>\n",
       "      <td>1</td>\n",
       "    </tr>\n",
       "    <tr>\n",
       "      <th>318</th>\n",
       "      <td>sensor</td>\n",
       "      <td>2020-03-23T11:07:07</td>\n",
       "      <td>Dabe</td>\n",
       "      <td>sensor</td>\n",
       "      <td>1</td>\n",
       "    </tr>\n",
       "  </tbody>\n",
       "</table>\n",
       "<p>319 rows × 5 columns</p>\n",
       "</div>"
      ],
      "text/plain": [
       "    repository_name          commit_date commit_author  \\\n",
       "0               mlm  2020-06-12T14:26:12        Victor   \n",
       "1               mlm  2020-06-12T11:53:10        Victor   \n",
       "2               mlm  2020-06-11T15:19:03        Victor   \n",
       "3               mlm  2020-06-11T10:42:29        Victor   \n",
       "4               mlm  2020-06-11T09:25:19        Victor   \n",
       "..              ...                  ...           ...   \n",
       "314          sensor  2020-03-23T12:54:35          Dabe   \n",
       "315          sensor  2020-03-23T12:30:52          Dabe   \n",
       "316          sensor  2020-03-23T11:27:40          Dabe   \n",
       "317          sensor  2020-03-23T11:20:50          Dabe   \n",
       "318          sensor  2020-03-23T11:07:07          Dabe   \n",
       "\n",
       "                                        commit_message  bugs  \n",
       "0               объяснения предсказаний с помощью lime     4  \n",
       "1                            Поставил lime вместо eli5     3  \n",
       "2                Скрипт для создния пакетов обновления     4  \n",
       "3                         Сортировка весов по убыванию     3  \n",
       "4    не надо конвертировать массив до операции по с...     7  \n",
       "..                                                 ...   ...  \n",
       "314                                   setting hostname     1  \n",
       "315                       heralding default dockerfile     2  \n",
       "316         unnesserity /data path permissions setting     3  \n",
       "317                                added trapconductor     1  \n",
       "318                                             sensor     1  \n",
       "\n",
       "[319 rows x 5 columns]"
      ]
     },
     "execution_count": 107,
     "metadata": {},
     "output_type": "execute_result"
    }
   ],
   "source": [
    "df_copy = df.copy()\n",
    "del df_copy['commit_hash']\n",
    "df_copy"
   ]
  },
  {
   "cell_type": "code",
   "execution_count": 108,
   "metadata": {},
   "outputs": [
    {
     "data": {
      "text/html": [
       "<div>\n",
       "<style scoped>\n",
       "    .dataframe tbody tr th:only-of-type {\n",
       "        vertical-align: middle;\n",
       "    }\n",
       "\n",
       "    .dataframe tbody tr th {\n",
       "        vertical-align: top;\n",
       "    }\n",
       "\n",
       "    .dataframe thead th {\n",
       "        text-align: right;\n",
       "    }\n",
       "</style>\n",
       "<table border=\"1\" class=\"dataframe\">\n",
       "  <thead>\n",
       "    <tr style=\"text-align: right;\">\n",
       "      <th></th>\n",
       "      <th>repository_name</th>\n",
       "      <th>commit_date</th>\n",
       "      <th>commit_author</th>\n",
       "      <th>bugs</th>\n",
       "    </tr>\n",
       "  </thead>\n",
       "  <tbody>\n",
       "    <tr>\n",
       "      <th>0</th>\n",
       "      <td>mlm</td>\n",
       "      <td>2020-06-12T14:26:12</td>\n",
       "      <td>Victor</td>\n",
       "      <td>4</td>\n",
       "    </tr>\n",
       "    <tr>\n",
       "      <th>1</th>\n",
       "      <td>mlm</td>\n",
       "      <td>2020-06-12T11:53:10</td>\n",
       "      <td>Victor</td>\n",
       "      <td>3</td>\n",
       "    </tr>\n",
       "    <tr>\n",
       "      <th>2</th>\n",
       "      <td>mlm</td>\n",
       "      <td>2020-06-11T15:19:03</td>\n",
       "      <td>Victor</td>\n",
       "      <td>4</td>\n",
       "    </tr>\n",
       "    <tr>\n",
       "      <th>3</th>\n",
       "      <td>mlm</td>\n",
       "      <td>2020-06-11T10:42:29</td>\n",
       "      <td>Victor</td>\n",
       "      <td>3</td>\n",
       "    </tr>\n",
       "    <tr>\n",
       "      <th>4</th>\n",
       "      <td>mlm</td>\n",
       "      <td>2020-06-11T09:25:19</td>\n",
       "      <td>Victor</td>\n",
       "      <td>7</td>\n",
       "    </tr>\n",
       "    <tr>\n",
       "      <th>...</th>\n",
       "      <td>...</td>\n",
       "      <td>...</td>\n",
       "      <td>...</td>\n",
       "      <td>...</td>\n",
       "    </tr>\n",
       "    <tr>\n",
       "      <th>314</th>\n",
       "      <td>sensor</td>\n",
       "      <td>2020-03-23T12:54:35</td>\n",
       "      <td>Dabe</td>\n",
       "      <td>1</td>\n",
       "    </tr>\n",
       "    <tr>\n",
       "      <th>315</th>\n",
       "      <td>sensor</td>\n",
       "      <td>2020-03-23T12:30:52</td>\n",
       "      <td>Dabe</td>\n",
       "      <td>2</td>\n",
       "    </tr>\n",
       "    <tr>\n",
       "      <th>316</th>\n",
       "      <td>sensor</td>\n",
       "      <td>2020-03-23T11:27:40</td>\n",
       "      <td>Dabe</td>\n",
       "      <td>3</td>\n",
       "    </tr>\n",
       "    <tr>\n",
       "      <th>317</th>\n",
       "      <td>sensor</td>\n",
       "      <td>2020-03-23T11:20:50</td>\n",
       "      <td>Dabe</td>\n",
       "      <td>1</td>\n",
       "    </tr>\n",
       "    <tr>\n",
       "      <th>318</th>\n",
       "      <td>sensor</td>\n",
       "      <td>2020-03-23T11:07:07</td>\n",
       "      <td>Dabe</td>\n",
       "      <td>1</td>\n",
       "    </tr>\n",
       "  </tbody>\n",
       "</table>\n",
       "<p>319 rows × 4 columns</p>\n",
       "</div>"
      ],
      "text/plain": [
       "    repository_name          commit_date commit_author  bugs\n",
       "0               mlm  2020-06-12T14:26:12        Victor     4\n",
       "1               mlm  2020-06-12T11:53:10        Victor     3\n",
       "2               mlm  2020-06-11T15:19:03        Victor     4\n",
       "3               mlm  2020-06-11T10:42:29        Victor     3\n",
       "4               mlm  2020-06-11T09:25:19        Victor     7\n",
       "..              ...                  ...           ...   ...\n",
       "314          sensor  2020-03-23T12:54:35          Dabe     1\n",
       "315          sensor  2020-03-23T12:30:52          Dabe     2\n",
       "316          sensor  2020-03-23T11:27:40          Dabe     3\n",
       "317          sensor  2020-03-23T11:20:50          Dabe     1\n",
       "318          sensor  2020-03-23T11:07:07          Dabe     1\n",
       "\n",
       "[319 rows x 4 columns]"
      ]
     },
     "execution_count": 108,
     "metadata": {},
     "output_type": "execute_result"
    }
   ],
   "source": [
    "del df_copy['commit_message']\n",
    "df_copy"
   ]
  },
  {
   "cell_type": "code",
   "execution_count": 137,
   "metadata": {},
   "outputs": [
    {
     "data": {
      "text/html": [
       "<div>\n",
       "<style scoped>\n",
       "    .dataframe tbody tr th:only-of-type {\n",
       "        vertical-align: middle;\n",
       "    }\n",
       "\n",
       "    .dataframe tbody tr th {\n",
       "        vertical-align: top;\n",
       "    }\n",
       "\n",
       "    .dataframe thead th {\n",
       "        text-align: right;\n",
       "    }\n",
       "</style>\n",
       "<table border=\"1\" class=\"dataframe\">\n",
       "  <thead>\n",
       "    <tr style=\"text-align: right;\">\n",
       "      <th></th>\n",
       "      <th>repository_name</th>\n",
       "      <th>commit_author</th>\n",
       "      <th>bugs</th>\n",
       "    </tr>\n",
       "  </thead>\n",
       "  <tbody>\n",
       "    <tr>\n",
       "      <th>0</th>\n",
       "      <td>1</td>\n",
       "      <td>7</td>\n",
       "      <td>4</td>\n",
       "    </tr>\n",
       "    <tr>\n",
       "      <th>1</th>\n",
       "      <td>1</td>\n",
       "      <td>7</td>\n",
       "      <td>3</td>\n",
       "    </tr>\n",
       "    <tr>\n",
       "      <th>2</th>\n",
       "      <td>1</td>\n",
       "      <td>7</td>\n",
       "      <td>4</td>\n",
       "    </tr>\n",
       "    <tr>\n",
       "      <th>3</th>\n",
       "      <td>1</td>\n",
       "      <td>7</td>\n",
       "      <td>3</td>\n",
       "    </tr>\n",
       "    <tr>\n",
       "      <th>4</th>\n",
       "      <td>1</td>\n",
       "      <td>7</td>\n",
       "      <td>7</td>\n",
       "    </tr>\n",
       "    <tr>\n",
       "      <th>...</th>\n",
       "      <td>...</td>\n",
       "      <td>...</td>\n",
       "      <td>...</td>\n",
       "    </tr>\n",
       "    <tr>\n",
       "      <th>314</th>\n",
       "      <td>6</td>\n",
       "      <td>11</td>\n",
       "      <td>1</td>\n",
       "    </tr>\n",
       "    <tr>\n",
       "      <th>315</th>\n",
       "      <td>6</td>\n",
       "      <td>11</td>\n",
       "      <td>2</td>\n",
       "    </tr>\n",
       "    <tr>\n",
       "      <th>316</th>\n",
       "      <td>6</td>\n",
       "      <td>11</td>\n",
       "      <td>3</td>\n",
       "    </tr>\n",
       "    <tr>\n",
       "      <th>317</th>\n",
       "      <td>6</td>\n",
       "      <td>11</td>\n",
       "      <td>1</td>\n",
       "    </tr>\n",
       "    <tr>\n",
       "      <th>318</th>\n",
       "      <td>6</td>\n",
       "      <td>11</td>\n",
       "      <td>1</td>\n",
       "    </tr>\n",
       "  </tbody>\n",
       "</table>\n",
       "<p>319 rows × 3 columns</p>\n",
       "</div>"
      ],
      "text/plain": [
       "     repository_name  commit_author  bugs\n",
       "0                  1              7     4\n",
       "1                  1              7     3\n",
       "2                  1              7     4\n",
       "3                  1              7     3\n",
       "4                  1              7     7\n",
       "..               ...            ...   ...\n",
       "314                6             11     1\n",
       "315                6             11     2\n",
       "316                6             11     3\n",
       "317                6             11     1\n",
       "318                6             11     1\n",
       "\n",
       "[319 rows x 3 columns]"
      ]
     },
     "execution_count": 137,
     "metadata": {},
     "output_type": "execute_result"
    }
   ],
   "source": [
    "del df_copy['commit_date']\n",
    "df_copy"
   ]
  },
  {
   "cell_type": "code",
   "execution_count": 112,
   "metadata": {},
   "outputs": [],
   "source": [
    "repa_dict = {'mlm' : 1, 'standard' : 2, 'agent' : 3, 'conductor' : 4, 'dockers' : 5, 'sensor' : 6}\n",
    "df_copy['repository_name'] = df_copy['repository_name'].apply(lambda x: repa_dict[x])"
   ]
  },
  {
   "cell_type": "code",
   "execution_count": 115,
   "metadata": {},
   "outputs": [],
   "source": [
    "user_dict = {'Victor' : 7, 'Wendy' : 8, 'Trudy' : 9, 'Mallory' : 10, 'Dabe' : 11, 'Carol' : 12, 'Bob' : 13, 'Alice' : 13, 'Eve' : 14, 'Peggy' : 15}\n",
    "df_copy['commit_author'] = df_copy['commit_author'].apply(lambda x: user_dict[x])"
   ]
  },
  {
   "cell_type": "code",
   "execution_count": 140,
   "metadata": {},
   "outputs": [
    {
     "data": {
      "text/html": [
       "<div>\n",
       "<style scoped>\n",
       "    .dataframe tbody tr th:only-of-type {\n",
       "        vertical-align: middle;\n",
       "    }\n",
       "\n",
       "    .dataframe tbody tr th {\n",
       "        vertical-align: top;\n",
       "    }\n",
       "\n",
       "    .dataframe thead th {\n",
       "        text-align: right;\n",
       "    }\n",
       "</style>\n",
       "<table border=\"1\" class=\"dataframe\">\n",
       "  <thead>\n",
       "    <tr style=\"text-align: right;\">\n",
       "      <th></th>\n",
       "      <th>repository_name</th>\n",
       "      <th>commit_author</th>\n",
       "      <th>bugs</th>\n",
       "    </tr>\n",
       "  </thead>\n",
       "  <tbody>\n",
       "    <tr>\n",
       "      <th>0</th>\n",
       "      <td>1</td>\n",
       "      <td>7</td>\n",
       "      <td>4</td>\n",
       "    </tr>\n",
       "    <tr>\n",
       "      <th>1</th>\n",
       "      <td>1</td>\n",
       "      <td>7</td>\n",
       "      <td>3</td>\n",
       "    </tr>\n",
       "    <tr>\n",
       "      <th>2</th>\n",
       "      <td>1</td>\n",
       "      <td>7</td>\n",
       "      <td>4</td>\n",
       "    </tr>\n",
       "    <tr>\n",
       "      <th>3</th>\n",
       "      <td>1</td>\n",
       "      <td>7</td>\n",
       "      <td>3</td>\n",
       "    </tr>\n",
       "    <tr>\n",
       "      <th>4</th>\n",
       "      <td>1</td>\n",
       "      <td>7</td>\n",
       "      <td>7</td>\n",
       "    </tr>\n",
       "    <tr>\n",
       "      <th>...</th>\n",
       "      <td>...</td>\n",
       "      <td>...</td>\n",
       "      <td>...</td>\n",
       "    </tr>\n",
       "    <tr>\n",
       "      <th>95</th>\n",
       "      <td>4</td>\n",
       "      <td>8</td>\n",
       "      <td>1</td>\n",
       "    </tr>\n",
       "    <tr>\n",
       "      <th>96</th>\n",
       "      <td>4</td>\n",
       "      <td>7</td>\n",
       "      <td>9</td>\n",
       "    </tr>\n",
       "    <tr>\n",
       "      <th>97</th>\n",
       "      <td>4</td>\n",
       "      <td>7</td>\n",
       "      <td>4</td>\n",
       "    </tr>\n",
       "    <tr>\n",
       "      <th>98</th>\n",
       "      <td>4</td>\n",
       "      <td>7</td>\n",
       "      <td>8</td>\n",
       "    </tr>\n",
       "    <tr>\n",
       "      <th>99</th>\n",
       "      <td>4</td>\n",
       "      <td>7</td>\n",
       "      <td>4</td>\n",
       "    </tr>\n",
       "  </tbody>\n",
       "</table>\n",
       "<p>100 rows × 3 columns</p>\n",
       "</div>"
      ],
      "text/plain": [
       "    repository_name  commit_author  bugs\n",
       "0                 1              7     4\n",
       "1                 1              7     3\n",
       "2                 1              7     4\n",
       "3                 1              7     3\n",
       "4                 1              7     7\n",
       "..              ...            ...   ...\n",
       "95                4              8     1\n",
       "96                4              7     9\n",
       "97                4              7     4\n",
       "98                4              7     8\n",
       "99                4              7     4\n",
       "\n",
       "[100 rows x 3 columns]"
      ]
     },
     "execution_count": 140,
     "metadata": {},
     "output_type": "execute_result"
    }
   ],
   "source": [
    "df_copy.head(100) "
   ]
  },
  {
   "cell_type": "markdown",
   "metadata": {},
   "source": [
    "# 5. Загрузка библиотеки с моделью и разбивка данных на обучающую и тестовую выборки"
   ]
  },
  {
   "cell_type": "code",
   "execution_count": 141,
   "metadata": {},
   "outputs": [],
   "source": [
    "import sklearn"
   ]
  },
  {
   "cell_type": "code",
   "execution_count": 142,
   "metadata": {},
   "outputs": [],
   "source": [
    "from sklearn.model_selection import train_test_split\n",
    "X = df_copy\n",
    "y = df_copy"
   ]
  },
  {
   "cell_type": "code",
   "execution_count": 143,
   "metadata": {},
   "outputs": [],
   "source": [
    "X_train, X_test, y_train, y_test = train_test_split(X, y, \n",
    "                                                    train_size=0.8, \n",
    "                                                    random_state=42)"
   ]
  },
  {
   "cell_type": "code",
   "execution_count": 144,
   "metadata": {},
   "outputs": [
    {
     "data": {
      "text/html": [
       "<div>\n",
       "<style scoped>\n",
       "    .dataframe tbody tr th:only-of-type {\n",
       "        vertical-align: middle;\n",
       "    }\n",
       "\n",
       "    .dataframe tbody tr th {\n",
       "        vertical-align: top;\n",
       "    }\n",
       "\n",
       "    .dataframe thead th {\n",
       "        text-align: right;\n",
       "    }\n",
       "</style>\n",
       "<table border=\"1\" class=\"dataframe\">\n",
       "  <thead>\n",
       "    <tr style=\"text-align: right;\">\n",
       "      <th></th>\n",
       "      <th>repository_name</th>\n",
       "      <th>commit_author</th>\n",
       "      <th>bugs</th>\n",
       "    </tr>\n",
       "  </thead>\n",
       "  <tbody>\n",
       "    <tr>\n",
       "      <th>210</th>\n",
       "      <td>5</td>\n",
       "      <td>7</td>\n",
       "      <td>1</td>\n",
       "    </tr>\n",
       "    <tr>\n",
       "      <th>76</th>\n",
       "      <td>3</td>\n",
       "      <td>7</td>\n",
       "      <td>4</td>\n",
       "    </tr>\n",
       "    <tr>\n",
       "      <th>94</th>\n",
       "      <td>4</td>\n",
       "      <td>8</td>\n",
       "      <td>4</td>\n",
       "    </tr>\n",
       "    <tr>\n",
       "      <th>222</th>\n",
       "      <td>6</td>\n",
       "      <td>8</td>\n",
       "      <td>2</td>\n",
       "    </tr>\n",
       "    <tr>\n",
       "      <th>311</th>\n",
       "      <td>6</td>\n",
       "      <td>14</td>\n",
       "      <td>1</td>\n",
       "    </tr>\n",
       "    <tr>\n",
       "      <th>258</th>\n",
       "      <td>6</td>\n",
       "      <td>7</td>\n",
       "      <td>4</td>\n",
       "    </tr>\n",
       "    <tr>\n",
       "      <th>316</th>\n",
       "      <td>6</td>\n",
       "      <td>11</td>\n",
       "      <td>3</td>\n",
       "    </tr>\n",
       "    <tr>\n",
       "      <th>78</th>\n",
       "      <td>3</td>\n",
       "      <td>7</td>\n",
       "      <td>3</td>\n",
       "    </tr>\n",
       "    <tr>\n",
       "      <th>308</th>\n",
       "      <td>6</td>\n",
       "      <td>10</td>\n",
       "      <td>3</td>\n",
       "    </tr>\n",
       "    <tr>\n",
       "      <th>239</th>\n",
       "      <td>6</td>\n",
       "      <td>7</td>\n",
       "      <td>1</td>\n",
       "    </tr>\n",
       "  </tbody>\n",
       "</table>\n",
       "</div>"
      ],
      "text/plain": [
       "     repository_name  commit_author  bugs\n",
       "210                5              7     1\n",
       "76                 3              7     4\n",
       "94                 4              8     4\n",
       "222                6              8     2\n",
       "311                6             14     1\n",
       "258                6              7     4\n",
       "316                6             11     3\n",
       "78                 3              7     3\n",
       "308                6             10     3\n",
       "239                6              7     1"
      ]
     },
     "execution_count": 144,
     "metadata": {},
     "output_type": "execute_result"
    }
   ],
   "source": [
    "X_train.head(10)"
   ]
  },
  {
   "cell_type": "code",
   "execution_count": 145,
   "metadata": {},
   "outputs": [
    {
     "data": {
      "text/plain": [
       "(255, 3)"
      ]
     },
     "execution_count": 145,
     "metadata": {},
     "output_type": "execute_result"
    }
   ],
   "source": [
    "X_train.shape"
   ]
  },
  {
   "cell_type": "code",
   "execution_count": 161,
   "metadata": {},
   "outputs": [
    {
     "data": {
      "text/html": [
       "<div>\n",
       "<style scoped>\n",
       "    .dataframe tbody tr th:only-of-type {\n",
       "        vertical-align: middle;\n",
       "    }\n",
       "\n",
       "    .dataframe tbody tr th {\n",
       "        vertical-align: top;\n",
       "    }\n",
       "\n",
       "    .dataframe thead th {\n",
       "        text-align: right;\n",
       "    }\n",
       "</style>\n",
       "<table border=\"1\" class=\"dataframe\">\n",
       "  <thead>\n",
       "    <tr style=\"text-align: right;\">\n",
       "      <th></th>\n",
       "      <th>repository_name</th>\n",
       "      <th>commit_author</th>\n",
       "      <th>bugs</th>\n",
       "    </tr>\n",
       "  </thead>\n",
       "  <tbody>\n",
       "    <tr>\n",
       "      <th>210</th>\n",
       "      <td>5</td>\n",
       "      <td>7</td>\n",
       "      <td>1</td>\n",
       "    </tr>\n",
       "    <tr>\n",
       "      <th>76</th>\n",
       "      <td>3</td>\n",
       "      <td>7</td>\n",
       "      <td>4</td>\n",
       "    </tr>\n",
       "    <tr>\n",
       "      <th>94</th>\n",
       "      <td>4</td>\n",
       "      <td>8</td>\n",
       "      <td>4</td>\n",
       "    </tr>\n",
       "    <tr>\n",
       "      <th>222</th>\n",
       "      <td>6</td>\n",
       "      <td>8</td>\n",
       "      <td>2</td>\n",
       "    </tr>\n",
       "    <tr>\n",
       "      <th>311</th>\n",
       "      <td>6</td>\n",
       "      <td>14</td>\n",
       "      <td>1</td>\n",
       "    </tr>\n",
       "    <tr>\n",
       "      <th>258</th>\n",
       "      <td>6</td>\n",
       "      <td>7</td>\n",
       "      <td>4</td>\n",
       "    </tr>\n",
       "    <tr>\n",
       "      <th>316</th>\n",
       "      <td>6</td>\n",
       "      <td>11</td>\n",
       "      <td>3</td>\n",
       "    </tr>\n",
       "    <tr>\n",
       "      <th>78</th>\n",
       "      <td>3</td>\n",
       "      <td>7</td>\n",
       "      <td>3</td>\n",
       "    </tr>\n",
       "    <tr>\n",
       "      <th>308</th>\n",
       "      <td>6</td>\n",
       "      <td>10</td>\n",
       "      <td>3</td>\n",
       "    </tr>\n",
       "    <tr>\n",
       "      <th>239</th>\n",
       "      <td>6</td>\n",
       "      <td>7</td>\n",
       "      <td>1</td>\n",
       "    </tr>\n",
       "  </tbody>\n",
       "</table>\n",
       "</div>"
      ],
      "text/plain": [
       "     repository_name  commit_author  bugs\n",
       "210                5              7     1\n",
       "76                 3              7     4\n",
       "94                 4              8     4\n",
       "222                6              8     2\n",
       "311                6             14     1\n",
       "258                6              7     4\n",
       "316                6             11     3\n",
       "78                 3              7     3\n",
       "308                6             10     3\n",
       "239                6              7     1"
      ]
     },
     "execution_count": 161,
     "metadata": {},
     "output_type": "execute_result"
    }
   ],
   "source": [
    "y_train.head(10)"
   ]
  },
  {
   "cell_type": "code",
   "execution_count": 147,
   "metadata": {},
   "outputs": [
    {
     "data": {
      "text/plain": [
       "(64, 3)"
      ]
     },
     "execution_count": 147,
     "metadata": {},
     "output_type": "execute_result"
    }
   ],
   "source": [
    "X_test.shape"
   ]
  },
  {
   "cell_type": "code",
   "execution_count": 148,
   "metadata": {},
   "outputs": [
    {
     "data": {
      "text/plain": [
       "<bound method NDFrame.head of 210     7\n",
       "76      7\n",
       "94      8\n",
       "222     8\n",
       "311    14\n",
       "       ..\n",
       "188    11\n",
       "71      7\n",
       "106     7\n",
       "270     7\n",
       "102     8\n",
       "Name: commit_author, Length: 255, dtype: int64>"
      ]
     },
     "execution_count": 148,
     "metadata": {},
     "output_type": "execute_result"
    }
   ],
   "source": [
    "Target_model = X_train['commit_author']\n",
    "Target_model.head"
   ]
  },
  {
   "cell_type": "code",
   "execution_count": 149,
   "metadata": {},
   "outputs": [
    {
     "data": {
      "text/plain": [
       "(255,)"
      ]
     },
     "execution_count": 149,
     "metadata": {},
     "output_type": "execute_result"
    }
   ],
   "source": [
    "Target_model.shape"
   ]
  },
  {
   "cell_type": "code",
   "execution_count": 150,
   "metadata": {},
   "outputs": [],
   "source": [
    "X_train = X_train.drop('commit_author', axis=1)"
   ]
  },
  {
   "cell_type": "code",
   "execution_count": 151,
   "metadata": {},
   "outputs": [
    {
     "data": {
      "text/html": [
       "<div>\n",
       "<style scoped>\n",
       "    .dataframe tbody tr th:only-of-type {\n",
       "        vertical-align: middle;\n",
       "    }\n",
       "\n",
       "    .dataframe tbody tr th {\n",
       "        vertical-align: top;\n",
       "    }\n",
       "\n",
       "    .dataframe thead th {\n",
       "        text-align: right;\n",
       "    }\n",
       "</style>\n",
       "<table border=\"1\" class=\"dataframe\">\n",
       "  <thead>\n",
       "    <tr style=\"text-align: right;\">\n",
       "      <th></th>\n",
       "      <th>repository_name</th>\n",
       "      <th>bugs</th>\n",
       "    </tr>\n",
       "  </thead>\n",
       "  <tbody>\n",
       "    <tr>\n",
       "      <th>210</th>\n",
       "      <td>5</td>\n",
       "      <td>1</td>\n",
       "    </tr>\n",
       "    <tr>\n",
       "      <th>76</th>\n",
       "      <td>3</td>\n",
       "      <td>4</td>\n",
       "    </tr>\n",
       "    <tr>\n",
       "      <th>94</th>\n",
       "      <td>4</td>\n",
       "      <td>4</td>\n",
       "    </tr>\n",
       "    <tr>\n",
       "      <th>222</th>\n",
       "      <td>6</td>\n",
       "      <td>2</td>\n",
       "    </tr>\n",
       "    <tr>\n",
       "      <th>311</th>\n",
       "      <td>6</td>\n",
       "      <td>1</td>\n",
       "    </tr>\n",
       "  </tbody>\n",
       "</table>\n",
       "</div>"
      ],
      "text/plain": [
       "     repository_name  bugs\n",
       "210                5     1\n",
       "76                 3     4\n",
       "94                 4     4\n",
       "222                6     2\n",
       "311                6     1"
      ]
     },
     "execution_count": 151,
     "metadata": {},
     "output_type": "execute_result"
    }
   ],
   "source": [
    "X_train.head()"
   ]
  },
  {
   "cell_type": "code",
   "execution_count": 152,
   "metadata": {},
   "outputs": [
    {
     "data": {
      "text/plain": [
       "(255, 2)"
      ]
     },
     "execution_count": 152,
     "metadata": {},
     "output_type": "execute_result"
    }
   ],
   "source": [
    "X_train.shape"
   ]
  },
  {
   "cell_type": "markdown",
   "metadata": {},
   "source": [
    "# 6. Загрузка моделей - линейная регрессия и случайный лес"
   ]
  },
  {
   "cell_type": "code",
   "execution_count": 153,
   "metadata": {},
   "outputs": [
    {
     "data": {
      "text/plain": [
       "LinearRegression(copy_X=True, fit_intercept=True, n_jobs=None, normalize=False)"
      ]
     },
     "execution_count": 153,
     "metadata": {},
     "output_type": "execute_result"
    }
   ],
   "source": [
    "from sklearn import linear_model\n",
    "linear_regression_model = linear_model.LinearRegression()\n",
    "linear_regression_model"
   ]
  },
  {
   "cell_type": "code",
   "execution_count": 154,
   "metadata": {},
   "outputs": [
    {
     "data": {
      "text/plain": [
       "RandomForestRegressor(bootstrap=True, ccp_alpha=0.0, criterion='mse',\n",
       "                      max_depth=None, max_features='auto', max_leaf_nodes=None,\n",
       "                      max_samples=None, min_impurity_decrease=0.0,\n",
       "                      min_impurity_split=None, min_samples_leaf=1,\n",
       "                      min_samples_split=2, min_weight_fraction_leaf=0.0,\n",
       "                      n_estimators=100, n_jobs=None, oob_score=False,\n",
       "                      random_state=None, verbose=0, warm_start=False)"
      ]
     },
     "execution_count": 154,
     "metadata": {},
     "output_type": "execute_result"
    }
   ],
   "source": [
    "from sklearn import ensemble\n",
    "random_forest_model = ensemble.RandomForestRegressor()\n",
    "random_forest_model"
   ]
  },
  {
   "cell_type": "markdown",
   "metadata": {},
   "source": [
    "# 7. Обучение моделей на основании тестовой выборки"
   ]
  },
  {
   "cell_type": "code",
   "execution_count": 155,
   "metadata": {},
   "outputs": [
    {
     "data": {
      "text/plain": [
       "RandomForestRegressor(bootstrap=True, ccp_alpha=0.0, criterion='mse',\n",
       "                      max_depth=None, max_features='auto', max_leaf_nodes=None,\n",
       "                      max_samples=None, min_impurity_decrease=0.0,\n",
       "                      min_impurity_split=None, min_samples_leaf=1,\n",
       "                      min_samples_split=2, min_weight_fraction_leaf=0.0,\n",
       "                      n_estimators=100, n_jobs=None, oob_score=False,\n",
       "                      random_state=None, verbose=0, warm_start=False)"
      ]
     },
     "execution_count": 155,
     "metadata": {},
     "output_type": "execute_result"
    }
   ],
   "source": [
    "random_forest_model.fit(X_train, Target_model)"
   ]
  },
  {
   "cell_type": "code",
   "execution_count": 156,
   "metadata": {},
   "outputs": [
    {
     "data": {
      "text/plain": [
       "LinearRegression(copy_X=True, fit_intercept=True, n_jobs=None, normalize=False)"
      ]
     },
     "execution_count": 156,
     "metadata": {},
     "output_type": "execute_result"
    }
   ],
   "source": [
    "linear_regression_model.fit(X_train, Target_model)"
   ]
  },
  {
   "cell_type": "code",
   "execution_count": 164,
   "metadata": {},
   "outputs": [
    {
     "data": {
      "text/html": [
       "<div>\n",
       "<style scoped>\n",
       "    .dataframe tbody tr th:only-of-type {\n",
       "        vertical-align: middle;\n",
       "    }\n",
       "\n",
       "    .dataframe tbody tr th {\n",
       "        vertical-align: top;\n",
       "    }\n",
       "\n",
       "    .dataframe thead th {\n",
       "        text-align: right;\n",
       "    }\n",
       "</style>\n",
       "<table border=\"1\" class=\"dataframe\">\n",
       "  <thead>\n",
       "    <tr style=\"text-align: right;\">\n",
       "      <th></th>\n",
       "      <th>repository_name</th>\n",
       "      <th>commit_author</th>\n",
       "      <th>bugs</th>\n",
       "    </tr>\n",
       "  </thead>\n",
       "  <tbody>\n",
       "    <tr>\n",
       "      <th>73</th>\n",
       "      <td>3</td>\n",
       "      <td>7</td>\n",
       "      <td>3</td>\n",
       "    </tr>\n",
       "    <tr>\n",
       "      <th>218</th>\n",
       "      <td>6</td>\n",
       "      <td>8</td>\n",
       "      <td>1</td>\n",
       "    </tr>\n",
       "    <tr>\n",
       "      <th>25</th>\n",
       "      <td>1</td>\n",
       "      <td>7</td>\n",
       "      <td>3</td>\n",
       "    </tr>\n",
       "    <tr>\n",
       "      <th>208</th>\n",
       "      <td>5</td>\n",
       "      <td>7</td>\n",
       "      <td>3</td>\n",
       "    </tr>\n",
       "    <tr>\n",
       "      <th>9</th>\n",
       "      <td>1</td>\n",
       "      <td>7</td>\n",
       "      <td>5</td>\n",
       "    </tr>\n",
       "    <tr>\n",
       "      <th>101</th>\n",
       "      <td>4</td>\n",
       "      <td>7</td>\n",
       "      <td>2</td>\n",
       "    </tr>\n",
       "    <tr>\n",
       "      <th>176</th>\n",
       "      <td>4</td>\n",
       "      <td>11</td>\n",
       "      <td>2</td>\n",
       "    </tr>\n",
       "    <tr>\n",
       "      <th>186</th>\n",
       "      <td>4</td>\n",
       "      <td>11</td>\n",
       "      <td>2</td>\n",
       "    </tr>\n",
       "    <tr>\n",
       "      <th>63</th>\n",
       "      <td>2</td>\n",
       "      <td>7</td>\n",
       "      <td>2</td>\n",
       "    </tr>\n",
       "    <tr>\n",
       "      <th>116</th>\n",
       "      <td>4</td>\n",
       "      <td>9</td>\n",
       "      <td>4</td>\n",
       "    </tr>\n",
       "  </tbody>\n",
       "</table>\n",
       "</div>"
      ],
      "text/plain": [
       "     repository_name  commit_author  bugs\n",
       "73                 3              7     3\n",
       "218                6              8     1\n",
       "25                 1              7     3\n",
       "208                5              7     3\n",
       "9                  1              7     5\n",
       "101                4              7     2\n",
       "176                4             11     2\n",
       "186                4             11     2\n",
       "63                 2              7     2\n",
       "116                4              9     4"
      ]
     },
     "execution_count": 164,
     "metadata": {},
     "output_type": "execute_result"
    }
   ],
   "source": [
    "X_test.head(10)"
   ]
  },
  {
   "cell_type": "code",
   "execution_count": 166,
   "metadata": {},
   "outputs": [
    {
     "data": {
      "text/plain": [
       "(64, 3)"
      ]
     },
     "execution_count": 166,
     "metadata": {},
     "output_type": "execute_result"
    }
   ],
   "source": [
    "X_test.shape"
   ]
  },
  {
   "cell_type": "code",
   "execution_count": 168,
   "metadata": {},
   "outputs": [
    {
     "data": {
      "text/plain": [
       "<bound method NDFrame.head of 73      7\n",
       "218     8\n",
       "25      7\n",
       "208     7\n",
       "9       7\n",
       "       ..\n",
       "220     8\n",
       "209     7\n",
       "109     8\n",
       "93      8\n",
       "124    10\n",
       "Name: commit_author, Length: 64, dtype: int64>"
      ]
     },
     "execution_count": 168,
     "metadata": {},
     "output_type": "execute_result"
    }
   ],
   "source": [
    "Test_Target_model = X_test['commit_author']\n",
    "Test_Target_model.head"
   ]
  },
  {
   "cell_type": "code",
   "execution_count": 169,
   "metadata": {},
   "outputs": [
    {
     "data": {
      "text/plain": [
       "(64,)"
      ]
     },
     "execution_count": 169,
     "metadata": {},
     "output_type": "execute_result"
    }
   ],
   "source": [
    "Test_Target_model.shape"
   ]
  },
  {
   "cell_type": "code",
   "execution_count": 170,
   "metadata": {},
   "outputs": [],
   "source": [
    "X_test = X_test.drop('commit_author', axis=1)"
   ]
  },
  {
   "cell_type": "code",
   "execution_count": 171,
   "metadata": {},
   "outputs": [
    {
     "data": {
      "text/html": [
       "<div>\n",
       "<style scoped>\n",
       "    .dataframe tbody tr th:only-of-type {\n",
       "        vertical-align: middle;\n",
       "    }\n",
       "\n",
       "    .dataframe tbody tr th {\n",
       "        vertical-align: top;\n",
       "    }\n",
       "\n",
       "    .dataframe thead th {\n",
       "        text-align: right;\n",
       "    }\n",
       "</style>\n",
       "<table border=\"1\" class=\"dataframe\">\n",
       "  <thead>\n",
       "    <tr style=\"text-align: right;\">\n",
       "      <th></th>\n",
       "      <th>repository_name</th>\n",
       "      <th>bugs</th>\n",
       "    </tr>\n",
       "  </thead>\n",
       "  <tbody>\n",
       "    <tr>\n",
       "      <th>73</th>\n",
       "      <td>3</td>\n",
       "      <td>3</td>\n",
       "    </tr>\n",
       "    <tr>\n",
       "      <th>218</th>\n",
       "      <td>6</td>\n",
       "      <td>1</td>\n",
       "    </tr>\n",
       "    <tr>\n",
       "      <th>25</th>\n",
       "      <td>1</td>\n",
       "      <td>3</td>\n",
       "    </tr>\n",
       "    <tr>\n",
       "      <th>208</th>\n",
       "      <td>5</td>\n",
       "      <td>3</td>\n",
       "    </tr>\n",
       "    <tr>\n",
       "      <th>9</th>\n",
       "      <td>1</td>\n",
       "      <td>5</td>\n",
       "    </tr>\n",
       "  </tbody>\n",
       "</table>\n",
       "</div>"
      ],
      "text/plain": [
       "     repository_name  bugs\n",
       "73                 3     3\n",
       "218                6     1\n",
       "25                 1     3\n",
       "208                5     3\n",
       "9                  1     5"
      ]
     },
     "execution_count": 171,
     "metadata": {},
     "output_type": "execute_result"
    }
   ],
   "source": [
    "X_test.head()"
   ]
  },
  {
   "cell_type": "code",
   "execution_count": 172,
   "metadata": {},
   "outputs": [
    {
     "data": {
      "text/plain": [
       "(64, 2)"
      ]
     },
     "execution_count": 172,
     "metadata": {},
     "output_type": "execute_result"
    }
   ],
   "source": [
    "X_test.shape"
   ]
  },
  {
   "cell_type": "markdown",
   "metadata": {},
   "source": [
    "# 8. Предсказание после обучения "
   ]
  },
  {
   "cell_type": "code",
   "execution_count": 173,
   "metadata": {},
   "outputs": [],
   "source": [
    "test_predictions_linear = linear_regression_model.predict(X_test)"
   ]
  },
  {
   "cell_type": "code",
   "execution_count": 174,
   "metadata": {},
   "outputs": [],
   "source": [
    "test_predictions_random_forest = random_forest_model.predict(X_test)"
   ]
  },
  {
   "cell_type": "markdown",
   "metadata": {},
   "source": [
    "# 9. Визуализация данных"
   ]
  },
  {
   "cell_type": "code",
   "execution_count": 175,
   "metadata": {},
   "outputs": [],
   "source": [
    "%matplotlib inline "
   ]
  },
  {
   "cell_type": "code",
   "execution_count": 185,
   "metadata": {},
   "outputs": [
    {
     "data": {
      "image/png": "[encoded data removed]",
      "text/plain": [
       "<Figure size 360x360 with 1 Axes>"
      ]
     },
     "metadata": {
      "needs_background": "light"
     },
     "output_type": "display_data"
    }
   ],
   "source": [
    "plt.figure(figsize=(5, 5))\n",
    "plt.scatter(Test_Target_model, test_predictions_linear)\n",
    "plt.plot([0, 6 * 3], [0, 6 * 3]) \n",
    "plt.xlabel('Настоящий исполнитель', fontsize=20)\n",
    "plt.ylabel('Предсказанный исполнитель', fontsize=20);"
   ]
  },
  {
   "cell_type": "code",
   "execution_count": 183,
   "metadata": {},
   "outputs": [
    {
     "data": {
      "image/png": "[encoded data removed]",
      "text/plain": [
       "<Figure size 360x360 with 1 Axes>"
      ]
     },
     "metadata": {
      "needs_background": "light"
     },
     "output_type": "display_data"
    }
   ],
   "source": [
    "plt.figure(figsize=(5, 5))\n",
    "plt.scatter(Test_Target_model, test_predictions_random_forest)\n",
    "plt.plot([0, 6 * 3], [0, 6 * 3]) \n",
    "plt.xlabel('Настоящий исполнитель', fontsize=20)\n",
    "plt.ylabel('Предсказанный исполнитель', fontsize=20);"
   ]
  },
  {
   "cell_type": "markdown",
   "metadata": {},
   "source": [
    "# 10. Расчетметрик и определение наилучшей модели по итогам обучения и имеющихся данных"
   ]
  },
  {
   "cell_type": "code",
   "execution_count": 186,
   "metadata": {},
   "outputs": [],
   "source": [
    "from sklearn.metrics import mean_absolute_error, mean_squared_error"
   ]
  },
  {
   "cell_type": "code",
   "execution_count": 190,
   "metadata": {},
   "outputs": [
    {
     "name": "stdout",
     "output_type": "stream",
     "text": [
      "1.6862874579790332\n",
      "4.357511588657343\n"
     ]
    }
   ],
   "source": [
    "mean_absolute_error_linear_model = mean_absolute_error(Test_Target_model, test_predictions_linear) \n",
    "print(mean_absolute_error_linear_model)\n",
    "mean_squared_error_linear_model = mean_squared_error(Test_Target_model, test_predictions_linear)\n",
    "print(mean_squared_error_linear_model)"
   ]
  },
  {
   "cell_type": "code",
   "execution_count": 191,
   "metadata": {},
   "outputs": [
    {
     "name": "stdout",
     "output_type": "stream",
     "text": [
      "1.3551726725247373\n",
      "3.709602334442352\n"
     ]
    }
   ],
   "source": [
    "mean_absolute_error_random_forest_model = mean_absolute_error(Test_Target_model, test_predictions_random_forest)\n",
    "print(mean_absolute_error_random_forest_model)\n",
    "mean_squared_error_random_forest_model = mean_squared_error(Test_Target_model, test_predictions_random_forest)\n",
    "print(mean_squared_error_random_forest_model)"
   ]
  },
  {
   "cell_type": "markdown",
   "metadata": {},
   "source": [
    "# 11. Результат"
   ]
  },
  {
   "cell_type": "code",
   "execution_count": null,
   "metadata": {},
   "outputs": [],
   "source": [
    "По итогам обучения и расчета MAE и MSE было выявлено, что модель случайного\n",
    "лес наиболее подходящая так как разница между фактическими данными и предсказанными \n",
    "наименьшая в модели случайного леса"
   ]
  },
  {
   "cell_type": "code",
   "execution_count": null,
   "metadata": {},
   "outputs": [],
   "source": [
    "# были идеи по преобразованию данных в столбце дата для увеличения фич при обучении -> не нашел подходящие методы\n",
    "# была идея по кстомизации настроек в модели случайный лес -> вышло время на подготовку тестового задания. В целом пошел бы по пути поиска оптимального количества деревьев, листьев и тд. думаю можно было бы получить более точный прогноз\n",
    "# была идея по генерации большего количества данных и приравнивании количества данных в классах. за класс взял бы репозитории. Судя по выборке классы не сбалансированы.\n",
    "\n",
    "# удалил данные хэшам, так как уникальный идентификатор операции и модель врятли смогла бы определить закономерности\n",
    "# удалил данные о комментариях пользователей, так как практически каждый комментарий уникальный\n",
    "\n",
    "# думаю что после внедрения данной модели, ее нужно было бы актуализировать каждые 2 мес. с учетом обновления штата команды и возможной смены репозиториев\n",
    "\n",
    "многие данные, умозаключения вычитаны, но пока не было практических задач для применения и собственных испытаний :) спасибо, что уделили время на чтение"
   ]
  },
  {
   "cell_type": "code",
   "execution_count": null,
   "metadata": {},
   "outputs": [],
   "source": []
  }
 ],
 "metadata": {
  "kernelspec": {
   "display_name": "Python 3",
   "language": "python",
   "name": "python3"
  },
  "language_info": {
   "codemirror_mode": {
    "name": "ipython",
    "version": 3
   },
   "file_extension": ".py",
   "mimetype": "text/x-python",
   "name": "python",
   "nbconvert_exporter": "python",
   "pygments_lexer": "ipython3",
   "version": "3.7.6"
  }
 },
 "nbformat": 4,
 "nbformat_minor": 4
}
